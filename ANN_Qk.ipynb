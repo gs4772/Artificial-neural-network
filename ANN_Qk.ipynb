{
 "cells": [
  {
   "cell_type": "markdown",
   "id": "14512aa9-d677-4f21-aebe-0742a77ff55c",
   "metadata": {},
   "source": [
    "#ANN"
   ]
  },
  {
   "cell_type": "code",
   "execution_count": 3,
   "id": "c801e801-5bfe-4c82-9987-2e0ccef77262",
   "metadata": {},
   "outputs": [],
   "source": [
    "import pandas as pd\n",
    "import numpy as np\n",
    "from tensorflow.keras.models import Sequential\n",
    "from tensorflow.keras.layers import Dense, Dropout\n",
    "from tensorflow.keras.utils import to_categorical"
   ]
  },
  {
   "cell_type": "code",
   "execution_count": 4,
   "id": "d2f2dcc0-9de0-4cfc-98dd-7de6350a402d",
   "metadata": {},
   "outputs": [
    {
     "data": {
      "text/html": [
       "<div>\n",
       "<style scoped>\n",
       "    .dataframe tbody tr th:only-of-type {\n",
       "        vertical-align: middle;\n",
       "    }\n",
       "\n",
       "    .dataframe tbody tr th {\n",
       "        vertical-align: top;\n",
       "    }\n",
       "\n",
       "    .dataframe thead th {\n",
       "        text-align: right;\n",
       "    }\n",
       "</style>\n",
       "<table border=\"1\" class=\"dataframe\">\n",
       "  <thead>\n",
       "    <tr style=\"text-align: right;\">\n",
       "      <th></th>\n",
       "      <th>time</th>\n",
       "      <th>latitude</th>\n",
       "      <th>longitude</th>\n",
       "      <th>depth</th>\n",
       "      <th>mag</th>\n",
       "      <th>magType</th>\n",
       "      <th>nst</th>\n",
       "      <th>gap</th>\n",
       "      <th>dmin</th>\n",
       "      <th>rms</th>\n",
       "      <th>...</th>\n",
       "      <th>updated</th>\n",
       "      <th>place</th>\n",
       "      <th>type</th>\n",
       "      <th>horizontalError</th>\n",
       "      <th>depthError</th>\n",
       "      <th>magError</th>\n",
       "      <th>magNst</th>\n",
       "      <th>status</th>\n",
       "      <th>locationSource</th>\n",
       "      <th>magSource</th>\n",
       "    </tr>\n",
       "  </thead>\n",
       "  <tbody>\n",
       "    <tr>\n",
       "      <th>0</th>\n",
       "      <td>2025-03-18T07:48:59.670Z</td>\n",
       "      <td>24.3636</td>\n",
       "      <td>94.8449</td>\n",
       "      <td>107.717</td>\n",
       "      <td>5.1</td>\n",
       "      <td>mww</td>\n",
       "      <td>74.0</td>\n",
       "      <td>53.0</td>\n",
       "      <td>3.144</td>\n",
       "      <td>0.61</td>\n",
       "      <td>...</td>\n",
       "      <td>2025-03-18T08:18:12.312Z</td>\n",
       "      <td>83 km ESE of Wāngjing, India</td>\n",
       "      <td>earthquake</td>\n",
       "      <td>9.02</td>\n",
       "      <td>6.868</td>\n",
       "      <td>0.093</td>\n",
       "      <td>11.0</td>\n",
       "      <td>reviewed</td>\n",
       "      <td>us</td>\n",
       "      <td>us</td>\n",
       "    </tr>\n",
       "    <tr>\n",
       "      <th>1</th>\n",
       "      <td>2025-03-17T19:37:18.170Z</td>\n",
       "      <td>24.4493</td>\n",
       "      <td>93.4599</td>\n",
       "      <td>44.225</td>\n",
       "      <td>4.1</td>\n",
       "      <td>mb</td>\n",
       "      <td>20.0</td>\n",
       "      <td>149.0</td>\n",
       "      <td>3.497</td>\n",
       "      <td>0.90</td>\n",
       "      <td>...</td>\n",
       "      <td>2025-03-17T20:00:14.040Z</td>\n",
       "      <td>24 km WNW of Churāchāndpur, India</td>\n",
       "      <td>earthquake</td>\n",
       "      <td>13.24</td>\n",
       "      <td>10.140</td>\n",
       "      <td>0.135</td>\n",
       "      <td>15.0</td>\n",
       "      <td>reviewed</td>\n",
       "      <td>us</td>\n",
       "      <td>us</td>\n",
       "    </tr>\n",
       "    <tr>\n",
       "      <th>2</th>\n",
       "      <td>2025-03-14T00:31:26.038Z</td>\n",
       "      <td>27.1365</td>\n",
       "      <td>92.2478</td>\n",
       "      <td>10.000</td>\n",
       "      <td>4.2</td>\n",
       "      <td>mb</td>\n",
       "      <td>42.0</td>\n",
       "      <td>143.0</td>\n",
       "      <td>2.741</td>\n",
       "      <td>0.89</td>\n",
       "      <td>...</td>\n",
       "      <td>2025-03-14T03:02:51.040Z</td>\n",
       "      <td>22 km SW of Bomdila, India</td>\n",
       "      <td>earthquake</td>\n",
       "      <td>5.74</td>\n",
       "      <td>1.900</td>\n",
       "      <td>0.085</td>\n",
       "      <td>39.0</td>\n",
       "      <td>reviewed</td>\n",
       "      <td>us</td>\n",
       "      <td>us</td>\n",
       "    </tr>\n",
       "    <tr>\n",
       "      <th>3</th>\n",
       "      <td>2025-03-13T21:20:11.181Z</td>\n",
       "      <td>33.0777</td>\n",
       "      <td>76.5809</td>\n",
       "      <td>56.996</td>\n",
       "      <td>5.1</td>\n",
       "      <td>mww</td>\n",
       "      <td>77.0</td>\n",
       "      <td>53.0</td>\n",
       "      <td>6.362</td>\n",
       "      <td>0.89</td>\n",
       "      <td>...</td>\n",
       "      <td>2025-03-14T06:37:09.087Z</td>\n",
       "      <td>51 km SSW of Padam, India</td>\n",
       "      <td>earthquake</td>\n",
       "      <td>9.22</td>\n",
       "      <td>6.437</td>\n",
       "      <td>0.127</td>\n",
       "      <td>6.0</td>\n",
       "      <td>reviewed</td>\n",
       "      <td>us</td>\n",
       "      <td>us</td>\n",
       "    </tr>\n",
       "    <tr>\n",
       "      <th>4</th>\n",
       "      <td>2025-03-13T08:37:19.471Z</td>\n",
       "      <td>29.0219</td>\n",
       "      <td>87.5917</td>\n",
       "      <td>10.000</td>\n",
       "      <td>4.3</td>\n",
       "      <td>mb</td>\n",
       "      <td>61.0</td>\n",
       "      <td>101.0</td>\n",
       "      <td>2.373</td>\n",
       "      <td>0.59</td>\n",
       "      <td>...</td>\n",
       "      <td>2025-03-13T12:14:04.040Z</td>\n",
       "      <td>128 km WSW of Rikaze, China</td>\n",
       "      <td>earthquake</td>\n",
       "      <td>7.64</td>\n",
       "      <td>1.892</td>\n",
       "      <td>0.065</td>\n",
       "      <td>67.0</td>\n",
       "      <td>reviewed</td>\n",
       "      <td>us</td>\n",
       "      <td>us</td>\n",
       "    </tr>\n",
       "  </tbody>\n",
       "</table>\n",
       "<p>5 rows × 22 columns</p>\n",
       "</div>"
      ],
      "text/plain": [
       "                       time  latitude  longitude    depth  mag magType   nst  \\\n",
       "0  2025-03-18T07:48:59.670Z   24.3636    94.8449  107.717  5.1     mww  74.0   \n",
       "1  2025-03-17T19:37:18.170Z   24.4493    93.4599   44.225  4.1      mb  20.0   \n",
       "2  2025-03-14T00:31:26.038Z   27.1365    92.2478   10.000  4.2      mb  42.0   \n",
       "3  2025-03-13T21:20:11.181Z   33.0777    76.5809   56.996  5.1     mww  77.0   \n",
       "4  2025-03-13T08:37:19.471Z   29.0219    87.5917   10.000  4.3      mb  61.0   \n",
       "\n",
       "     gap   dmin   rms  ...                   updated  \\\n",
       "0   53.0  3.144  0.61  ...  2025-03-18T08:18:12.312Z   \n",
       "1  149.0  3.497  0.90  ...  2025-03-17T20:00:14.040Z   \n",
       "2  143.0  2.741  0.89  ...  2025-03-14T03:02:51.040Z   \n",
       "3   53.0  6.362  0.89  ...  2025-03-14T06:37:09.087Z   \n",
       "4  101.0  2.373  0.59  ...  2025-03-13T12:14:04.040Z   \n",
       "\n",
       "                               place        type horizontalError depthError  \\\n",
       "0       83 km ESE of Wāngjing, India  earthquake            9.02      6.868   \n",
       "1  24 km WNW of Churāchāndpur, India  earthquake           13.24     10.140   \n",
       "2         22 km SW of Bomdila, India  earthquake            5.74      1.900   \n",
       "3          51 km SSW of Padam, India  earthquake            9.22      6.437   \n",
       "4        128 km WSW of Rikaze, China  earthquake            7.64      1.892   \n",
       "\n",
       "   magError  magNst    status  locationSource magSource  \n",
       "0     0.093    11.0  reviewed              us        us  \n",
       "1     0.135    15.0  reviewed              us        us  \n",
       "2     0.085    39.0  reviewed              us        us  \n",
       "3     0.127     6.0  reviewed              us        us  \n",
       "4     0.065    67.0  reviewed              us        us  \n",
       "\n",
       "[5 rows x 22 columns]"
      ]
     },
     "execution_count": 4,
     "metadata": {},
     "output_type": "execute_result"
    }
   ],
   "source": [
    "df = pd.read_csv('query (4).csv')\n",
    "df.head()"
   ]
  },
  {
   "cell_type": "code",
   "execution_count": 5,
   "id": "b079924a-f241-46fa-bd13-372c6145c4fa",
   "metadata": {},
   "outputs": [],
   "source": [
    "columns_to_drop = ['net','id','magType', 'nst', 'gap', 'dmin', 'rms', 'updated', 'place', 'type', 'horizontalError', 'depthError', 'magError', 'magNst', 'status', 'locationSource', 'magSource']\n",
    "df = df.drop(columns = columns_to_drop)\n"
   ]
  },
  {
   "cell_type": "code",
   "execution_count": 6,
   "id": "3a5d072c-a268-46b5-8477-e87d85cb6dc8",
   "metadata": {},
   "outputs": [],
   "source": [
    "df = df.dropna()"
   ]
  },
  {
   "cell_type": "code",
   "execution_count": 7,
   "id": "0c6ab1ed-d094-4260-948b-da2b1a2845af",
   "metadata": {},
   "outputs": [],
   "source": [
    "df['time'] = pd.to_datetime(df['time'])\n",
    "df['year'] = df['time'].dt.year.astype('int16')\n",
    "df['month'] = df['time'].dt.month.astype('int8')\n",
    "df['Day'] = df['time'].dt.day.astype('int8')\n",
    "df['hour'] = df['time'].dt.hour.astype('int8')\n",
    "df = df.drop(columns = ['time'])"
   ]
  },
  {
   "cell_type": "code",
   "execution_count": 8,
   "id": "9ac65d72-c224-462b-b2a8-c3fea0a9c245",
   "metadata": {},
   "outputs": [
    {
     "data": {
      "text/html": [
       "<div>\n",
       "<style scoped>\n",
       "    .dataframe tbody tr th:only-of-type {\n",
       "        vertical-align: middle;\n",
       "    }\n",
       "\n",
       "    .dataframe tbody tr th {\n",
       "        vertical-align: top;\n",
       "    }\n",
       "\n",
       "    .dataframe thead th {\n",
       "        text-align: right;\n",
       "    }\n",
       "</style>\n",
       "<table border=\"1\" class=\"dataframe\">\n",
       "  <thead>\n",
       "    <tr style=\"text-align: right;\">\n",
       "      <th></th>\n",
       "      <th>latitude</th>\n",
       "      <th>longitude</th>\n",
       "      <th>depth</th>\n",
       "      <th>mag</th>\n",
       "      <th>year</th>\n",
       "      <th>month</th>\n",
       "      <th>Day</th>\n",
       "      <th>hour</th>\n",
       "    </tr>\n",
       "  </thead>\n",
       "  <tbody>\n",
       "    <tr>\n",
       "      <th>0</th>\n",
       "      <td>24.3636</td>\n",
       "      <td>94.8449</td>\n",
       "      <td>107.717</td>\n",
       "      <td>5.1</td>\n",
       "      <td>2025</td>\n",
       "      <td>3</td>\n",
       "      <td>18</td>\n",
       "      <td>7</td>\n",
       "    </tr>\n",
       "    <tr>\n",
       "      <th>1</th>\n",
       "      <td>24.4493</td>\n",
       "      <td>93.4599</td>\n",
       "      <td>44.225</td>\n",
       "      <td>4.1</td>\n",
       "      <td>2025</td>\n",
       "      <td>3</td>\n",
       "      <td>17</td>\n",
       "      <td>19</td>\n",
       "    </tr>\n",
       "    <tr>\n",
       "      <th>2</th>\n",
       "      <td>27.1365</td>\n",
       "      <td>92.2478</td>\n",
       "      <td>10.000</td>\n",
       "      <td>4.2</td>\n",
       "      <td>2025</td>\n",
       "      <td>3</td>\n",
       "      <td>14</td>\n",
       "      <td>0</td>\n",
       "    </tr>\n",
       "    <tr>\n",
       "      <th>3</th>\n",
       "      <td>33.0777</td>\n",
       "      <td>76.5809</td>\n",
       "      <td>56.996</td>\n",
       "      <td>5.1</td>\n",
       "      <td>2025</td>\n",
       "      <td>3</td>\n",
       "      <td>13</td>\n",
       "      <td>21</td>\n",
       "    </tr>\n",
       "    <tr>\n",
       "      <th>4</th>\n",
       "      <td>29.0219</td>\n",
       "      <td>87.5917</td>\n",
       "      <td>10.000</td>\n",
       "      <td>4.3</td>\n",
       "      <td>2025</td>\n",
       "      <td>3</td>\n",
       "      <td>13</td>\n",
       "      <td>8</td>\n",
       "    </tr>\n",
       "  </tbody>\n",
       "</table>\n",
       "</div>"
      ],
      "text/plain": [
       "   latitude  longitude    depth  mag  year  month  Day  hour\n",
       "0   24.3636    94.8449  107.717  5.1  2025      3   18     7\n",
       "1   24.4493    93.4599   44.225  4.1  2025      3   17    19\n",
       "2   27.1365    92.2478   10.000  4.2  2025      3   14     0\n",
       "3   33.0777    76.5809   56.996  5.1  2025      3   13    21\n",
       "4   29.0219    87.5917   10.000  4.3  2025      3   13     8"
      ]
     },
     "execution_count": 8,
     "metadata": {},
     "output_type": "execute_result"
    }
   ],
   "source": [
    "df.head()"
   ]
  },
  {
   "cell_type": "code",
   "execution_count": 9,
   "id": "67884478-503d-491e-9920-039097e4c6b0",
   "metadata": {},
   "outputs": [],
   "source": [
    "#Optimize data\n",
    "df['latitude'] = df['latitude'].astype('float32')\n",
    "df['longitude'] = df ['longitude'].astype('float32')\n",
    "df['depth'] = df['depth'].astype('float32')\n",
    "df['mag'] = df['mag'].astype('float32')"
   ]
  },
  {
   "cell_type": "code",
   "execution_count": 10,
   "id": "18cf995c-b420-493b-9f91-517c6f256ded",
   "metadata": {},
   "outputs": [],
   "source": [
    "from sklearn.model_selection import train_test_split\n",
    "from sklearn.preprocessing import StandardScaler"
   ]
  },
  {
   "cell_type": "code",
   "execution_count": 11,
   "id": "adce58cb-53e8-4d2d-89b5-6406e54f9986",
   "metadata": {},
   "outputs": [
    {
     "name": "stdout",
     "output_type": "stream",
     "text": [
      "Full DataFrame shape: (5322, 8)\n",
      "Columns in DataFrame: ['latitude', 'longitude', 'depth', 'mag', 'year', 'month', 'Day', 'hour']\n"
     ]
    }
   ],
   "source": [
    "print(\"Full DataFrame shape:\", df.shape)\n",
    "print(\"Columns in DataFrame:\", df.columns.tolist())"
   ]
  },
  {
   "cell_type": "code",
   "execution_count": 16,
   "id": "5478ca3d-37b9-4870-a6e7-ae9362d8c52b",
   "metadata": {},
   "outputs": [],
   "source": [
    "#setting features and target\n",
    "features = df[[\t'latitude', 'longitude','depth','mag','year','month','Day','hour']]\n",
    "target = df['mag']"
   ]
  },
  {
   "cell_type": "code",
   "execution_count": 17,
   "id": "3ecefcbe-8457-4bdd-ad15-52e429479b2c",
   "metadata": {},
   "outputs": [
    {
     "name": "stdout",
     "output_type": "stream",
     "text": [
      "Features shape (raw): (5322, 8)\n",
      "Target shape (raw): (5322,)\n"
     ]
    }
   ],
   "source": [
    "print(\"Features shape (raw):\", features.shape)\n",
    "print(\"Target shape (raw):\", target.shape)"
   ]
  },
  {
   "cell_type": "code",
   "execution_count": 18,
   "id": "72fcb479-ed8a-4f4b-ba06-81916bd65701",
   "metadata": {},
   "outputs": [],
   "source": [
    "#scale the features\n",
    "scaler = StandardScaler()\n",
    "features_scaled = scaler.fit_transform(features)"
   ]
  },
  {
   "cell_type": "code",
   "execution_count": 19,
   "id": "79d2cff3-faae-4052-8c04-0ed8163ea479",
   "metadata": {},
   "outputs": [],
   "source": [
    "#test_train split\n",
    "x_train, x_test, y_train, y_test = train_test_split(features_scaled, target, test_size = 0.2, random_state = 42)"
   ]
  },
  {
   "cell_type": "code",
   "execution_count": 20,
   "id": "259bd703-b4b4-4c06-8205-87e8928abc6f",
   "metadata": {},
   "outputs": [
    {
     "name": "stdout",
     "output_type": "stream",
     "text": [
      "Features shape: (5322, 8)\n",
      "Target shape: (5322,)\n"
     ]
    }
   ],
   "source": [
    "print(\"Features shape:\", features_scaled.shape)\n",
    "print(\"Target shape:\", target.shape)"
   ]
  },
  {
   "cell_type": "markdown",
   "id": "691d99e6-ccdf-42d8-8ee2-f523378d2164",
   "metadata": {},
   "source": [
    "Build ANN"
   ]
  },
  {
   "cell_type": "code",
   "execution_count": 26,
   "id": "a8870023-4564-4722-be8e-5e805d68258d",
   "metadata": {},
   "outputs": [],
   "source": [
    "model = Sequential()\n",
    "model.add(Dense(64, input_dim = x_train.shape[1], activation = 'relu')) \n",
    "model.add(Dense(32, activation = 'relu'))\n",
    "model.add (Dense(1, activation = 'linear'))\n",
    "model.compile(loss = 'mean_squared_error', optimizer = 'Adam', metrics = ['mae'])"
   ]
  },
  {
   "cell_type": "markdown",
   "id": "429dac42-62eb-4eb6-84d1-4d3c729af9c5",
   "metadata": {},
   "source": [
    "Train"
   ]
  },
  {
   "cell_type": "code",
   "execution_count": 29,
   "id": "6e58ac87-4efa-490c-b2ef-f5bab7200bfb",
   "metadata": {},
   "outputs": [
    {
     "name": "stdout",
     "output_type": "stream",
     "text": [
      "Epoch 1/50\n",
      "\u001b[1m27/27\u001b[0m \u001b[32m━━━━━━━━━━━━━━━━━━━━\u001b[0m\u001b[37m\u001b[0m \u001b[1m2s\u001b[0m 16ms/step - loss: 19.1658 - mae: 4.3090 - val_loss: 7.8852 - val_mae: 2.7243\n",
      "Epoch 2/50\n",
      "\u001b[1m27/27\u001b[0m \u001b[32m━━━━━━━━━━━━━━━━━━━━\u001b[0m\u001b[37m\u001b[0m \u001b[1m0s\u001b[0m 5ms/step - loss: 5.5172 - mae: 2.1857 - val_loss: 1.2594 - val_mae: 0.9281\n",
      "Epoch 3/50\n",
      "\u001b[1m27/27\u001b[0m \u001b[32m━━━━━━━━━━━━━━━━━━━━\u001b[0m\u001b[37m\u001b[0m \u001b[1m0s\u001b[0m 5ms/step - loss: 1.0305 - mae: 0.8199 - val_loss: 0.6860 - val_mae: 0.6568\n",
      "Epoch 4/50\n",
      "\u001b[1m27/27\u001b[0m \u001b[32m━━━━━━━━━━━━━━━━━━━━\u001b[0m\u001b[37m\u001b[0m \u001b[1m0s\u001b[0m 6ms/step - loss: 0.6390 - mae: 0.6363 - val_loss: 0.5594 - val_mae: 0.5896\n",
      "Epoch 5/50\n",
      "\u001b[1m27/27\u001b[0m \u001b[32m━━━━━━━━━━━━━━━━━━━━\u001b[0m\u001b[37m\u001b[0m \u001b[1m0s\u001b[0m 6ms/step - loss: 0.5142 - mae: 0.5662 - val_loss: 0.5064 - val_mae: 0.5606\n",
      "Epoch 6/50\n",
      "\u001b[1m27/27\u001b[0m \u001b[32m━━━━━━━━━━━━━━━━━━━━\u001b[0m\u001b[37m\u001b[0m \u001b[1m0s\u001b[0m 5ms/step - loss: 0.4786 - mae: 0.5439 - val_loss: 0.4742 - val_mae: 0.5413\n",
      "Epoch 7/50\n",
      "\u001b[1m27/27\u001b[0m \u001b[32m━━━━━━━━━━━━━━━━━━━━\u001b[0m\u001b[37m\u001b[0m \u001b[1m0s\u001b[0m 6ms/step - loss: 0.4410 - mae: 0.5236 - val_loss: 0.4426 - val_mae: 0.5227\n",
      "Epoch 8/50\n",
      "\u001b[1m27/27\u001b[0m \u001b[32m━━━━━━━━━━━━━━━━━━━━\u001b[0m\u001b[37m\u001b[0m \u001b[1m0s\u001b[0m 5ms/step - loss: 0.4088 - mae: 0.5033 - val_loss: 0.4173 - val_mae: 0.5061\n",
      "Epoch 9/50\n",
      "\u001b[1m27/27\u001b[0m \u001b[32m━━━━━━━━━━━━━━━━━━━━\u001b[0m\u001b[37m\u001b[0m \u001b[1m0s\u001b[0m 5ms/step - loss: 0.4016 - mae: 0.5027 - val_loss: 0.3898 - val_mae: 0.4898\n",
      "Epoch 10/50\n",
      "\u001b[1m27/27\u001b[0m \u001b[32m━━━━━━━━━━━━━━━━━━━━\u001b[0m\u001b[37m\u001b[0m \u001b[1m0s\u001b[0m 6ms/step - loss: 0.3608 - mae: 0.4742 - val_loss: 0.3696 - val_mae: 0.4759\n",
      "Epoch 11/50\n",
      "\u001b[1m27/27\u001b[0m \u001b[32m━━━━━━━━━━━━━━━━━━━━\u001b[0m\u001b[37m\u001b[0m \u001b[1m0s\u001b[0m 6ms/step - loss: 0.3528 - mae: 0.4693 - val_loss: 0.3464 - val_mae: 0.4624\n",
      "Epoch 12/50\n",
      "\u001b[1m27/27\u001b[0m \u001b[32m━━━━━━━━━━━━━━━━━━━━\u001b[0m\u001b[37m\u001b[0m \u001b[1m0s\u001b[0m 5ms/step - loss: 0.3318 - mae: 0.4555 - val_loss: 0.3292 - val_mae: 0.4493\n",
      "Epoch 13/50\n",
      "\u001b[1m27/27\u001b[0m \u001b[32m━━━━━━━━━━━━━━━━━━━━\u001b[0m\u001b[37m\u001b[0m \u001b[1m0s\u001b[0m 6ms/step - loss: 0.3090 - mae: 0.4355 - val_loss: 0.3112 - val_mae: 0.4371\n",
      "Epoch 14/50\n",
      "\u001b[1m27/27\u001b[0m \u001b[32m━━━━━━━━━━━━━━━━━━━━\u001b[0m\u001b[37m\u001b[0m \u001b[1m0s\u001b[0m 6ms/step - loss: 0.2786 - mae: 0.4189 - val_loss: 0.2926 - val_mae: 0.4241\n",
      "Epoch 15/50\n",
      "\u001b[1m27/27\u001b[0m \u001b[32m━━━━━━━━━━━━━━━━━━━━\u001b[0m\u001b[37m\u001b[0m \u001b[1m0s\u001b[0m 5ms/step - loss: 0.2622 - mae: 0.4082 - val_loss: 0.2771 - val_mae: 0.4127\n",
      "Epoch 16/50\n",
      "\u001b[1m27/27\u001b[0m \u001b[32m━━━━━━━━━━━━━━━━━━━━\u001b[0m\u001b[37m\u001b[0m \u001b[1m0s\u001b[0m 8ms/step - loss: 0.2615 - mae: 0.4059 - val_loss: 0.2592 - val_mae: 0.3996\n",
      "Epoch 17/50\n",
      "\u001b[1m27/27\u001b[0m \u001b[32m━━━━━━━━━━━━━━━━━━━━\u001b[0m\u001b[37m\u001b[0m \u001b[1m0s\u001b[0m 5ms/step - loss: 0.2412 - mae: 0.3895 - val_loss: 0.2437 - val_mae: 0.3882\n",
      "Epoch 18/50\n",
      "\u001b[1m27/27\u001b[0m \u001b[32m━━━━━━━━━━━━━━━━━━━━\u001b[0m\u001b[37m\u001b[0m \u001b[1m0s\u001b[0m 6ms/step - loss: 0.2171 - mae: 0.3678 - val_loss: 0.2331 - val_mae: 0.3783\n",
      "Epoch 19/50\n",
      "\u001b[1m27/27\u001b[0m \u001b[32m━━━━━━━━━━━━━━━━━━━━\u001b[0m\u001b[37m\u001b[0m \u001b[1m0s\u001b[0m 6ms/step - loss: 0.2181 - mae: 0.3696 - val_loss: 0.2146 - val_mae: 0.3642\n",
      "Epoch 20/50\n",
      "\u001b[1m27/27\u001b[0m \u001b[32m━━━━━━━━━━━━━━━━━━━━\u001b[0m\u001b[37m\u001b[0m \u001b[1m0s\u001b[0m 5ms/step - loss: 0.1956 - mae: 0.3522 - val_loss: 0.2008 - val_mae: 0.3527\n",
      "Epoch 21/50\n",
      "\u001b[1m27/27\u001b[0m \u001b[32m━━━━━━━━━━━━━━━━━━━━\u001b[0m\u001b[37m\u001b[0m \u001b[1m0s\u001b[0m 5ms/step - loss: 0.1925 - mae: 0.3488 - val_loss: 0.1876 - val_mae: 0.3408\n",
      "Epoch 22/50\n",
      "\u001b[1m27/27\u001b[0m \u001b[32m━━━━━━━━━━━━━━━━━━━━\u001b[0m\u001b[37m\u001b[0m \u001b[1m0s\u001b[0m 5ms/step - loss: 0.1701 - mae: 0.3276 - val_loss: 0.1741 - val_mae: 0.3285\n",
      "Epoch 23/50\n",
      "\u001b[1m27/27\u001b[0m \u001b[32m━━━━━━━━━━━━━━━━━━━━\u001b[0m\u001b[37m\u001b[0m \u001b[1m0s\u001b[0m 5ms/step - loss: 0.1471 - mae: 0.3042 - val_loss: 0.1605 - val_mae: 0.3155\n",
      "Epoch 24/50\n",
      "\u001b[1m27/27\u001b[0m \u001b[32m━━━━━━━━━━━━━━━━━━━━\u001b[0m\u001b[37m\u001b[0m \u001b[1m0s\u001b[0m 5ms/step - loss: 0.1464 - mae: 0.3015 - val_loss: 0.1472 - val_mae: 0.3019\n",
      "Epoch 25/50\n",
      "\u001b[1m27/27\u001b[0m \u001b[32m━━━━━━━━━━━━━━━━━━━━\u001b[0m\u001b[37m\u001b[0m \u001b[1m0s\u001b[0m 6ms/step - loss: 0.1347 - mae: 0.2900 - val_loss: 0.1355 - val_mae: 0.2904\n",
      "Epoch 26/50\n",
      "\u001b[1m27/27\u001b[0m \u001b[32m━━━━━━━━━━━━━━━━━━━━\u001b[0m\u001b[37m\u001b[0m \u001b[1m0s\u001b[0m 5ms/step - loss: 0.1250 - mae: 0.2787 - val_loss: 0.1221 - val_mae: 0.2756\n",
      "Epoch 27/50\n",
      "\u001b[1m27/27\u001b[0m \u001b[32m━━━━━━━━━━━━━━━━━━━━\u001b[0m\u001b[37m\u001b[0m \u001b[1m0s\u001b[0m 6ms/step - loss: 0.1082 - mae: 0.2584 - val_loss: 0.1112 - val_mae: 0.2634\n",
      "Epoch 28/50\n",
      "\u001b[1m27/27\u001b[0m \u001b[32m━━━━━━━━━━━━━━━━━━━━\u001b[0m\u001b[37m\u001b[0m \u001b[1m0s\u001b[0m 5ms/step - loss: 0.0971 - mae: 0.2463 - val_loss: 0.1005 - val_mae: 0.2500\n",
      "Epoch 29/50\n",
      "\u001b[1m27/27\u001b[0m \u001b[32m━━━━━━━━━━━━━━━━━━━━\u001b[0m\u001b[37m\u001b[0m \u001b[1m0s\u001b[0m 5ms/step - loss: 0.0902 - mae: 0.2382 - val_loss: 0.0899 - val_mae: 0.2368\n",
      "Epoch 30/50\n",
      "\u001b[1m27/27\u001b[0m \u001b[32m━━━━━━━━━━━━━━━━━━━━\u001b[0m\u001b[37m\u001b[0m \u001b[1m0s\u001b[0m 5ms/step - loss: 0.0772 - mae: 0.2211 - val_loss: 0.0801 - val_mae: 0.2235\n",
      "Epoch 31/50\n",
      "\u001b[1m27/27\u001b[0m \u001b[32m━━━━━━━━━━━━━━━━━━━━\u001b[0m\u001b[37m\u001b[0m \u001b[1m0s\u001b[0m 6ms/step - loss: 0.0717 - mae: 0.2117 - val_loss: 0.0708 - val_mae: 0.2102\n",
      "Epoch 32/50\n",
      "\u001b[1m27/27\u001b[0m \u001b[32m━━━━━━━━━━━━━━━━━━━━\u001b[0m\u001b[37m\u001b[0m \u001b[1m0s\u001b[0m 5ms/step - loss: 0.0598 - mae: 0.1930 - val_loss: 0.0628 - val_mae: 0.1983\n",
      "Epoch 33/50\n",
      "\u001b[1m27/27\u001b[0m \u001b[32m━━━━━━━━━━━━━━━━━━━━\u001b[0m\u001b[37m\u001b[0m \u001b[1m0s\u001b[0m 5ms/step - loss: 0.0549 - mae: 0.1873 - val_loss: 0.0549 - val_mae: 0.1850\n",
      "Epoch 34/50\n",
      "\u001b[1m27/27\u001b[0m \u001b[32m━━━━━━━━━━━━━━━━━━━━\u001b[0m\u001b[37m\u001b[0m \u001b[1m0s\u001b[0m 4ms/step - loss: 0.0470 - mae: 0.1713 - val_loss: 0.0490 - val_mae: 0.1757\n",
      "Epoch 35/50\n",
      "\u001b[1m27/27\u001b[0m \u001b[32m━━━━━━━━━━━━━━━━━━━━\u001b[0m\u001b[37m\u001b[0m \u001b[1m0s\u001b[0m 4ms/step - loss: 0.0439 - mae: 0.1650 - val_loss: 0.0423 - val_mae: 0.1622\n",
      "Epoch 36/50\n",
      "\u001b[1m27/27\u001b[0m \u001b[32m━━━━━━━━━━━━━━━━━━━━\u001b[0m\u001b[37m\u001b[0m \u001b[1m0s\u001b[0m 4ms/step - loss: 0.0371 - mae: 0.1512 - val_loss: 0.0369 - val_mae: 0.1518\n",
      "Epoch 37/50\n",
      "\u001b[1m27/27\u001b[0m \u001b[32m━━━━━━━━━━━━━━━━━━━━\u001b[0m\u001b[37m\u001b[0m \u001b[1m0s\u001b[0m 4ms/step - loss: 0.0347 - mae: 0.1466 - val_loss: 0.0326 - val_mae: 0.1430\n",
      "Epoch 38/50\n",
      "\u001b[1m27/27\u001b[0m \u001b[32m━━━━━━━━━━━━━━━━━━━━\u001b[0m\u001b[37m\u001b[0m \u001b[1m0s\u001b[0m 4ms/step - loss: 0.0284 - mae: 0.1320 - val_loss: 0.0287 - val_mae: 0.1333\n",
      "Epoch 39/50\n",
      "\u001b[1m27/27\u001b[0m \u001b[32m━━━━━━━━━━━━━━━━━━━━\u001b[0m\u001b[37m\u001b[0m \u001b[1m0s\u001b[0m 4ms/step - loss: 0.0253 - mae: 0.1239 - val_loss: 0.0255 - val_mae: 0.1253\n",
      "Epoch 40/50\n",
      "\u001b[1m27/27\u001b[0m \u001b[32m━━━━━━━━━━━━━━━━━━━━\u001b[0m\u001b[37m\u001b[0m \u001b[1m0s\u001b[0m 4ms/step - loss: 0.0230 - mae: 0.1171 - val_loss: 0.0224 - val_mae: 0.1175\n",
      "Epoch 41/50\n",
      "\u001b[1m27/27\u001b[0m \u001b[32m━━━━━━━━━━━━━━━━━━━━\u001b[0m\u001b[37m\u001b[0m \u001b[1m0s\u001b[0m 4ms/step - loss: 0.0199 - mae: 0.1092 - val_loss: 0.0202 - val_mae: 0.1128\n",
      "Epoch 42/50\n",
      "\u001b[1m27/27\u001b[0m \u001b[32m━━━━━━━━━━━━━━━━━━━━\u001b[0m\u001b[37m\u001b[0m \u001b[1m0s\u001b[0m 4ms/step - loss: 0.0184 - mae: 0.1055 - val_loss: 0.0179 - val_mae: 0.1055\n",
      "Epoch 43/50\n",
      "\u001b[1m27/27\u001b[0m \u001b[32m━━━━━━━━━━━━━━━━━━━━\u001b[0m\u001b[37m\u001b[0m \u001b[1m0s\u001b[0m 6ms/step - loss: 0.0160 - mae: 0.0972 - val_loss: 0.0165 - val_mae: 0.1007\n",
      "Epoch 44/50\n",
      "\u001b[1m27/27\u001b[0m \u001b[32m━━━━━━━━━━━━━━━━━━━━\u001b[0m\u001b[37m\u001b[0m \u001b[1m0s\u001b[0m 4ms/step - loss: 0.0152 - mae: 0.0947 - val_loss: 0.0153 - val_mae: 0.0971\n",
      "Epoch 45/50\n",
      "\u001b[1m27/27\u001b[0m \u001b[32m━━━━━━━━━━━━━━━━━━━━\u001b[0m\u001b[37m\u001b[0m \u001b[1m0s\u001b[0m 4ms/step - loss: 0.0137 - mae: 0.0908 - val_loss: 0.0137 - val_mae: 0.0920\n",
      "Epoch 46/50\n",
      "\u001b[1m27/27\u001b[0m \u001b[32m━━━━━━━━━━━━━━━━━━━━\u001b[0m\u001b[37m\u001b[0m \u001b[1m0s\u001b[0m 4ms/step - loss: 0.0124 - mae: 0.0867 - val_loss: 0.0131 - val_mae: 0.0899\n",
      "Epoch 47/50\n",
      "\u001b[1m27/27\u001b[0m \u001b[32m━━━━━━━━━━━━━━━━━━━━\u001b[0m\u001b[37m\u001b[0m \u001b[1m0s\u001b[0m 4ms/step - loss: 0.0112 - mae: 0.0826 - val_loss: 0.0119 - val_mae: 0.0868\n",
      "Epoch 48/50\n",
      "\u001b[1m27/27\u001b[0m \u001b[32m━━━━━━━━━━━━━━━━━━━━\u001b[0m\u001b[37m\u001b[0m \u001b[1m0s\u001b[0m 4ms/step - loss: 0.0108 - mae: 0.0806 - val_loss: 0.0109 - val_mae: 0.0823\n",
      "Epoch 49/50\n",
      "\u001b[1m27/27\u001b[0m \u001b[32m━━━━━━━━━━━━━━━━━━━━\u001b[0m\u001b[37m\u001b[0m \u001b[1m0s\u001b[0m 4ms/step - loss: 0.0099 - mae: 0.0777 - val_loss: 0.0104 - val_mae: 0.0799\n",
      "Epoch 50/50\n",
      "\u001b[1m27/27\u001b[0m \u001b[32m━━━━━━━━━━━━━━━━━━━━\u001b[0m\u001b[37m\u001b[0m \u001b[1m0s\u001b[0m 4ms/step - loss: 0.0088 - mae: 0.0725 - val_loss: 0.0098 - val_mae: 0.0774\n"
     ]
    }
   ],
   "source": [
    "history = model.fit(x_train, y_train, epochs = 50, batch_size = 128, validation_split = 0.2, verbose = 1)"
   ]
  },
  {
   "cell_type": "markdown",
   "id": "f4a7fa7a-187f-4dfa-bbf0-0c22ebc05a13",
   "metadata": {},
   "source": [
    "Evaluate"
   ]
  },
  {
   "cell_type": "code",
   "execution_count": 31,
   "id": "7823812a-3146-4997-b322-f88512eaf65d",
   "metadata": {},
   "outputs": [
    {
     "name": "stdout",
     "output_type": "stream",
     "text": [
      "Test Mean Absolute Error: 0.08\n"
     ]
    }
   ],
   "source": [
    "loss,mae = model.evaluate(x_test, y_test, verbose = 0)\n",
    "print(f'Test Mean Absolute Error: {mae:.2f}')"
   ]
  },
  {
   "cell_type": "code",
   "execution_count": null,
   "id": "53f37848-4a07-4c00-a41e-30bb8bfffe62",
   "metadata": {},
   "outputs": [],
   "source": []
  }
 ],
 "metadata": {
  "kernelspec": {
   "display_name": "Python 3 (ipykernel)",
   "language": "python",
   "name": "python3"
  },
  "language_info": {
   "codemirror_mode": {
    "name": "ipython",
    "version": 3
   },
   "file_extension": ".py",
   "mimetype": "text/x-python",
   "name": "python",
   "nbconvert_exporter": "python",
   "pygments_lexer": "ipython3",
   "version": "3.12.7"
  }
 },
 "nbformat": 4,
 "nbformat_minor": 5
}
