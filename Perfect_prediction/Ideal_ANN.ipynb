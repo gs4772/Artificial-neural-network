{
 "cells": [
  {
   "cell_type": "markdown",
   "id": "14512aa9-d677-4f21-aebe-0742a77ff55c",
   "metadata": {},
   "source": [
    "#ANN"
   ]
  },
  {
   "cell_type": "code",
   "execution_count": 73,
   "id": "c801e801-5bfe-4c82-9987-2e0ccef77262",
   "metadata": {},
   "outputs": [],
   "source": [
    "import pandas as pd\n",
    "import numpy as np\n",
    "from tensorflow.keras.models import Sequential\n",
    "from tensorflow.keras.layers import Dense, Dropout\n",
    "from tensorflow.keras.utils import to_categorical\n",
    "import matplotlib.pyplot as plt\n",
    "from tensorflow.keras.optimizers import Adam\n",
    "from sklearn.model_selection import train_test_split\n",
    "from sklearn.preprocessing import StandardScaler"
   ]
  },
  {
   "cell_type": "code",
   "execution_count": 46,
   "id": "d2f2dcc0-9de0-4cfc-98dd-7de6350a402d",
   "metadata": {},
   "outputs": [
    {
     "data": {
      "text/html": [
       "<div>\n",
       "<style scoped>\n",
       "    .dataframe tbody tr th:only-of-type {\n",
       "        vertical-align: middle;\n",
       "    }\n",
       "\n",
       "    .dataframe tbody tr th {\n",
       "        vertical-align: top;\n",
       "    }\n",
       "\n",
       "    .dataframe thead th {\n",
       "        text-align: right;\n",
       "    }\n",
       "</style>\n",
       "<table border=\"1\" class=\"dataframe\">\n",
       "  <thead>\n",
       "    <tr style=\"text-align: right;\">\n",
       "      <th></th>\n",
       "      <th>time</th>\n",
       "      <th>latitude</th>\n",
       "      <th>longitude</th>\n",
       "      <th>depth</th>\n",
       "      <th>mag</th>\n",
       "      <th>magType</th>\n",
       "      <th>nst</th>\n",
       "      <th>gap</th>\n",
       "      <th>dmin</th>\n",
       "      <th>rms</th>\n",
       "      <th>...</th>\n",
       "      <th>updated</th>\n",
       "      <th>place</th>\n",
       "      <th>type</th>\n",
       "      <th>horizontalError</th>\n",
       "      <th>depthError</th>\n",
       "      <th>magError</th>\n",
       "      <th>magNst</th>\n",
       "      <th>status</th>\n",
       "      <th>locationSource</th>\n",
       "      <th>magSource</th>\n",
       "    </tr>\n",
       "  </thead>\n",
       "  <tbody>\n",
       "    <tr>\n",
       "      <th>0</th>\n",
       "      <td>2025-02-21T10:11:47.799Z</td>\n",
       "      <td>28.5633</td>\n",
       "      <td>87.5409</td>\n",
       "      <td>10.000</td>\n",
       "      <td>4.9</td>\n",
       "      <td>mb</td>\n",
       "      <td>68.0</td>\n",
       "      <td>67.0</td>\n",
       "      <td>2.137</td>\n",
       "      <td>0.97</td>\n",
       "      <td>...</td>\n",
       "      <td>2025-02-27T21:38:11.659Z</td>\n",
       "      <td>98 km NE of Lobuche, Nepal</td>\n",
       "      <td>earthquake</td>\n",
       "      <td>7.89</td>\n",
       "      <td>1.862</td>\n",
       "      <td>0.054</td>\n",
       "      <td>107.0</td>\n",
       "      <td>reviewed</td>\n",
       "      <td>us</td>\n",
       "      <td>us</td>\n",
       "    </tr>\n",
       "    <tr>\n",
       "      <th>1</th>\n",
       "      <td>2025-02-20T06:02:58.563Z</td>\n",
       "      <td>25.7977</td>\n",
       "      <td>90.6738</td>\n",
       "      <td>10.000</td>\n",
       "      <td>4.3</td>\n",
       "      <td>mb</td>\n",
       "      <td>34.0</td>\n",
       "      <td>154.0</td>\n",
       "      <td>3.911</td>\n",
       "      <td>0.99</td>\n",
       "      <td>...</td>\n",
       "      <td>2025-03-08T12:23:12.040Z</td>\n",
       "      <td>42 km S of Goālpāra, India</td>\n",
       "      <td>earthquake</td>\n",
       "      <td>7.77</td>\n",
       "      <td>1.852</td>\n",
       "      <td>0.106</td>\n",
       "      <td>25.0</td>\n",
       "      <td>reviewed</td>\n",
       "      <td>us</td>\n",
       "      <td>us</td>\n",
       "    </tr>\n",
       "    <tr>\n",
       "      <th>2</th>\n",
       "      <td>2025-02-17T00:06:52.349Z</td>\n",
       "      <td>28.5887</td>\n",
       "      <td>77.1025</td>\n",
       "      <td>10.000</td>\n",
       "      <td>4.2</td>\n",
       "      <td>mb</td>\n",
       "      <td>32.0</td>\n",
       "      <td>204.0</td>\n",
       "      <td>7.258</td>\n",
       "      <td>0.61</td>\n",
       "      <td>...</td>\n",
       "      <td>2025-03-11T22:13:27.498Z</td>\n",
       "      <td>10 km SSE of Nāngloi Jāt, India</td>\n",
       "      <td>earthquake</td>\n",
       "      <td>7.96</td>\n",
       "      <td>1.946</td>\n",
       "      <td>0.128</td>\n",
       "      <td>17.0</td>\n",
       "      <td>reviewed</td>\n",
       "      <td>us</td>\n",
       "      <td>us</td>\n",
       "    </tr>\n",
       "    <tr>\n",
       "      <th>3</th>\n",
       "      <td>2025-02-16T03:28:58.344Z</td>\n",
       "      <td>29.0272</td>\n",
       "      <td>87.5405</td>\n",
       "      <td>10.000</td>\n",
       "      <td>4.8</td>\n",
       "      <td>mb</td>\n",
       "      <td>79.0</td>\n",
       "      <td>94.0</td>\n",
       "      <td>2.337</td>\n",
       "      <td>0.75</td>\n",
       "      <td>...</td>\n",
       "      <td>2025-03-07T02:46:18.532Z</td>\n",
       "      <td>132 km W of Rikaze, China</td>\n",
       "      <td>earthquake</td>\n",
       "      <td>8.91</td>\n",
       "      <td>1.865</td>\n",
       "      <td>0.058</td>\n",
       "      <td>94.0</td>\n",
       "      <td>reviewed</td>\n",
       "      <td>us</td>\n",
       "      <td>us</td>\n",
       "    </tr>\n",
       "    <tr>\n",
       "      <th>4</th>\n",
       "      <td>2025-02-15T17:48:18.144Z</td>\n",
       "      <td>33.4067</td>\n",
       "      <td>73.0563</td>\n",
       "      <td>35.848</td>\n",
       "      <td>4.7</td>\n",
       "      <td>mb</td>\n",
       "      <td>139.0</td>\n",
       "      <td>42.0</td>\n",
       "      <td>3.441</td>\n",
       "      <td>0.64</td>\n",
       "      <td>...</td>\n",
       "      <td>2025-03-05T18:06:52.476Z</td>\n",
       "      <td>21 km S of Rawalpindi, Pakistan</td>\n",
       "      <td>earthquake</td>\n",
       "      <td>8.23</td>\n",
       "      <td>4.417</td>\n",
       "      <td>0.046</td>\n",
       "      <td>149.0</td>\n",
       "      <td>reviewed</td>\n",
       "      <td>us</td>\n",
       "      <td>us</td>\n",
       "    </tr>\n",
       "  </tbody>\n",
       "</table>\n",
       "<p>5 rows × 22 columns</p>\n",
       "</div>"
      ],
      "text/plain": [
       "                       time  latitude  longitude   depth  mag magType    nst  \\\n",
       "0  2025-02-21T10:11:47.799Z   28.5633    87.5409  10.000  4.9      mb   68.0   \n",
       "1  2025-02-20T06:02:58.563Z   25.7977    90.6738  10.000  4.3      mb   34.0   \n",
       "2  2025-02-17T00:06:52.349Z   28.5887    77.1025  10.000  4.2      mb   32.0   \n",
       "3  2025-02-16T03:28:58.344Z   29.0272    87.5405  10.000  4.8      mb   79.0   \n",
       "4  2025-02-15T17:48:18.144Z   33.4067    73.0563  35.848  4.7      mb  139.0   \n",
       "\n",
       "     gap   dmin   rms  ...                   updated  \\\n",
       "0   67.0  2.137  0.97  ...  2025-02-27T21:38:11.659Z   \n",
       "1  154.0  3.911  0.99  ...  2025-03-08T12:23:12.040Z   \n",
       "2  204.0  7.258  0.61  ...  2025-03-11T22:13:27.498Z   \n",
       "3   94.0  2.337  0.75  ...  2025-03-07T02:46:18.532Z   \n",
       "4   42.0  3.441  0.64  ...  2025-03-05T18:06:52.476Z   \n",
       "\n",
       "                             place        type horizontalError depthError  \\\n",
       "0       98 km NE of Lobuche, Nepal  earthquake            7.89      1.862   \n",
       "1       42 km S of Goālpāra, India  earthquake            7.77      1.852   \n",
       "2  10 km SSE of Nāngloi Jāt, India  earthquake            7.96      1.946   \n",
       "3        132 km W of Rikaze, China  earthquake            8.91      1.865   \n",
       "4  21 km S of Rawalpindi, Pakistan  earthquake            8.23      4.417   \n",
       "\n",
       "   magError  magNst    status  locationSource magSource  \n",
       "0     0.054   107.0  reviewed              us        us  \n",
       "1     0.106    25.0  reviewed              us        us  \n",
       "2     0.128    17.0  reviewed              us        us  \n",
       "3     0.058    94.0  reviewed              us        us  \n",
       "4     0.046   149.0  reviewed              us        us  \n",
       "\n",
       "[5 rows x 22 columns]"
      ]
     },
     "execution_count": 46,
     "metadata": {},
     "output_type": "execute_result"
    }
   ],
   "source": [
    "df = pd.read_csv('query (4).csv')\n",
    "df.head()"
   ]
  },
  {
   "cell_type": "code",
   "execution_count": 47,
   "id": "b079924a-f241-46fa-bd13-372c6145c4fa",
   "metadata": {},
   "outputs": [],
   "source": [
    "columns_to_drop = ['net','id','magType', 'nst', 'gap', 'dmin', 'rms', 'updated', 'place', 'type', 'horizontalError', 'depthError', 'magError', 'magNst', 'status', 'locationSource', 'magSource']\n",
    "df = df.drop(columns = columns_to_drop)\n"
   ]
  },
  {
   "cell_type": "code",
   "execution_count": 48,
   "id": "3a5d072c-a268-46b5-8477-e87d85cb6dc8",
   "metadata": {},
   "outputs": [],
   "source": [
    "df = df.dropna()"
   ]
  },
  {
   "cell_type": "code",
   "execution_count": 49,
   "id": "0c6ab1ed-d094-4260-948b-da2b1a2845af",
   "metadata": {},
   "outputs": [],
   "source": [
    "df['time'] = pd.to_datetime(df['time'])\n",
    "df['year'] = df['time'].dt.year.astype('int16')\n",
    "df['month'] = df['time'].dt.month.astype('int8')\n",
    "df['Day'] = df['time'].dt.day.astype('int8')\n",
    "df['hour'] = df['time'].dt.hour.astype('int8')\n",
    "df = df.drop(columns = ['time'])"
   ]
  },
  {
   "cell_type": "code",
   "execution_count": 50,
   "id": "9ac65d72-c224-462b-b2a8-c3fea0a9c245",
   "metadata": {},
   "outputs": [
    {
     "data": {
      "text/html": [
       "<div>\n",
       "<style scoped>\n",
       "    .dataframe tbody tr th:only-of-type {\n",
       "        vertical-align: middle;\n",
       "    }\n",
       "\n",
       "    .dataframe tbody tr th {\n",
       "        vertical-align: top;\n",
       "    }\n",
       "\n",
       "    .dataframe thead th {\n",
       "        text-align: right;\n",
       "    }\n",
       "</style>\n",
       "<table border=\"1\" class=\"dataframe\">\n",
       "  <thead>\n",
       "    <tr style=\"text-align: right;\">\n",
       "      <th></th>\n",
       "      <th>latitude</th>\n",
       "      <th>longitude</th>\n",
       "      <th>depth</th>\n",
       "      <th>mag</th>\n",
       "      <th>year</th>\n",
       "      <th>month</th>\n",
       "      <th>Day</th>\n",
       "      <th>hour</th>\n",
       "    </tr>\n",
       "  </thead>\n",
       "  <tbody>\n",
       "    <tr>\n",
       "      <th>0</th>\n",
       "      <td>28.5633</td>\n",
       "      <td>87.5409</td>\n",
       "      <td>10.000</td>\n",
       "      <td>4.9</td>\n",
       "      <td>2025</td>\n",
       "      <td>2</td>\n",
       "      <td>21</td>\n",
       "      <td>10</td>\n",
       "    </tr>\n",
       "    <tr>\n",
       "      <th>1</th>\n",
       "      <td>25.7977</td>\n",
       "      <td>90.6738</td>\n",
       "      <td>10.000</td>\n",
       "      <td>4.3</td>\n",
       "      <td>2025</td>\n",
       "      <td>2</td>\n",
       "      <td>20</td>\n",
       "      <td>6</td>\n",
       "    </tr>\n",
       "    <tr>\n",
       "      <th>2</th>\n",
       "      <td>28.5887</td>\n",
       "      <td>77.1025</td>\n",
       "      <td>10.000</td>\n",
       "      <td>4.2</td>\n",
       "      <td>2025</td>\n",
       "      <td>2</td>\n",
       "      <td>17</td>\n",
       "      <td>0</td>\n",
       "    </tr>\n",
       "    <tr>\n",
       "      <th>3</th>\n",
       "      <td>29.0272</td>\n",
       "      <td>87.5405</td>\n",
       "      <td>10.000</td>\n",
       "      <td>4.8</td>\n",
       "      <td>2025</td>\n",
       "      <td>2</td>\n",
       "      <td>16</td>\n",
       "      <td>3</td>\n",
       "    </tr>\n",
       "    <tr>\n",
       "      <th>4</th>\n",
       "      <td>33.4067</td>\n",
       "      <td>73.0563</td>\n",
       "      <td>35.848</td>\n",
       "      <td>4.7</td>\n",
       "      <td>2025</td>\n",
       "      <td>2</td>\n",
       "      <td>15</td>\n",
       "      <td>17</td>\n",
       "    </tr>\n",
       "  </tbody>\n",
       "</table>\n",
       "</div>"
      ],
      "text/plain": [
       "   latitude  longitude   depth  mag  year  month  Day  hour\n",
       "0   28.5633    87.5409  10.000  4.9  2025      2   21    10\n",
       "1   25.7977    90.6738  10.000  4.3  2025      2   20     6\n",
       "2   28.5887    77.1025  10.000  4.2  2025      2   17     0\n",
       "3   29.0272    87.5405  10.000  4.8  2025      2   16     3\n",
       "4   33.4067    73.0563  35.848  4.7  2025      2   15    17"
      ]
     },
     "execution_count": 50,
     "metadata": {},
     "output_type": "execute_result"
    }
   ],
   "source": [
    "df.head()"
   ]
  },
  {
   "cell_type": "code",
   "execution_count": 51,
   "id": "67884478-503d-491e-9920-039097e4c6b0",
   "metadata": {},
   "outputs": [],
   "source": [
    "#Optimize data\n",
    "df['latitude'] = df['latitude'].astype('float32')\n",
    "df['longitude'] = df ['longitude'].astype('float32')\n",
    "df['depth'] = df['depth'].astype('float32')\n",
    "df['mag'] = df['mag'].astype('float32')"
   ]
  },
  {
   "cell_type": "code",
   "execution_count": 53,
   "id": "adce58cb-53e8-4d2d-89b5-6406e54f9986",
   "metadata": {},
   "outputs": [
    {
     "name": "stdout",
     "output_type": "stream",
     "text": [
      "Full DataFrame shape: (6940, 8)\n",
      "Columns in DataFrame: ['latitude', 'longitude', 'depth', 'mag', 'year', 'month', 'Day', 'hour']\n"
     ]
    }
   ],
   "source": [
    "print(\"Full DataFrame shape:\", df.shape)\n",
    "print(\"Columns in DataFrame:\", df.columns.tolist())"
   ]
  },
  {
   "cell_type": "code",
   "execution_count": 54,
   "id": "5478ca3d-37b9-4870-a6e7-ae9362d8c52b",
   "metadata": {},
   "outputs": [],
   "source": [
    "#setting features and target\n",
    "features = df[[\t'latitude', 'longitude','depth','mag','year','month','Day','hour']]\n",
    "target = df['mag']"
   ]
  },
  {
   "cell_type": "code",
   "execution_count": 55,
   "id": "3ecefcbe-8457-4bdd-ad15-52e429479b2c",
   "metadata": {},
   "outputs": [
    {
     "name": "stdout",
     "output_type": "stream",
     "text": [
      "Features shape (raw): (6940, 8)\n",
      "Target shape (raw): (6940,)\n"
     ]
    }
   ],
   "source": [
    "print(\"Features shape (raw):\", features.shape)\n",
    "print(\"Target shape (raw):\", target.shape)"
   ]
  },
  {
   "cell_type": "code",
   "execution_count": 56,
   "id": "72fcb479-ed8a-4f4b-ba06-81916bd65701",
   "metadata": {},
   "outputs": [],
   "source": [
    "#scale the features\n",
    "scaler = StandardScaler()\n",
    "features_scaled = scaler.fit_transform(features)"
   ]
  },
  {
   "cell_type": "code",
   "execution_count": 57,
   "id": "79d2cff3-faae-4052-8c04-0ed8163ea479",
   "metadata": {},
   "outputs": [],
   "source": [
    "#test_train split\n",
    "x_train, x_test, y_train, y_test = train_test_split(features_scaled, target, test_size = 0.2, random_state = 42)"
   ]
  },
  {
   "cell_type": "markdown",
   "id": "691d99e6-ccdf-42d8-8ee2-f523378d2164",
   "metadata": {},
   "source": [
    "Build ANN"
   ]
  },
  {
   "cell_type": "code",
   "execution_count": 58,
   "id": "a8870023-4564-4722-be8e-5e805d68258d",
   "metadata": {},
   "outputs": [
    {
     "name": "stderr",
     "output_type": "stream",
     "text": [
      "C:\\Users\\Guru G\\AppData\\Roaming\\Python\\Python312\\site-packages\\keras\\src\\layers\\core\\dense.py:87: UserWarning: Do not pass an `input_shape`/`input_dim` argument to a layer. When using Sequential models, prefer using an `Input(shape)` object as the first layer in the model instead.\n",
      "  super().__init__(activity_regularizer=activity_regularizer, **kwargs)\n"
     ]
    }
   ],
   "source": [
    "model = Sequential()\n",
    "model.add(Dense(64, input_dim = x_train.shape[1], activation = 'relu')) \n",
    "model.add(Dense(32, activation = 'relu'))\n",
    "model.add (Dense(1, activation = 'linear'))\n",
    "model.compile(loss = 'mean_squared_error', optimizer = 'Adam', metrics = ['mae'])"
   ]
  },
  {
   "cell_type": "markdown",
   "id": "429dac42-62eb-4eb6-84d1-4d3c729af9c5",
   "metadata": {},
   "source": [
    "train"
   ]
  },
  {
   "cell_type": "code",
   "execution_count": 59,
   "id": "6e58ac87-4efa-490c-b2ef-f5bab7200bfb",
   "metadata": {},
   "outputs": [
    {
     "name": "stdout",
     "output_type": "stream",
     "text": [
      "Epoch 1/50\n",
      "\u001b[1m35/35\u001b[0m \u001b[32m━━━━━━━━━━━━━━━━━━━━\u001b[0m\u001b[37m\u001b[0m \u001b[1m2s\u001b[0m 13ms/step - loss: 15.2507 - mae: 3.8100 - val_loss: 4.5055 - val_mae: 1.9457\n",
      "Epoch 2/50\n",
      "\u001b[1m35/35\u001b[0m \u001b[32m━━━━━━━━━━━━━━━━━━━━\u001b[0m\u001b[37m\u001b[0m \u001b[1m0s\u001b[0m 5ms/step - loss: 2.7045 - mae: 1.3973 - val_loss: 1.0406 - val_mae: 0.8160\n",
      "Epoch 3/50\n",
      "\u001b[1m35/35\u001b[0m \u001b[32m━━━━━━━━━━━━━━━━━━━━\u001b[0m\u001b[37m\u001b[0m \u001b[1m0s\u001b[0m 5ms/step - loss: 0.9531 - mae: 0.7813 - val_loss: 0.8163 - val_mae: 0.7248\n",
      "Epoch 4/50\n",
      "\u001b[1m35/35\u001b[0m \u001b[32m━━━━━━━━━━━━━━━━━━━━\u001b[0m\u001b[37m\u001b[0m \u001b[1m0s\u001b[0m 5ms/step - loss: 0.7589 - mae: 0.6948 - val_loss: 0.6813 - val_mae: 0.6573\n",
      "Epoch 5/50\n",
      "\u001b[1m35/35\u001b[0m \u001b[32m━━━━━━━━━━━━━━━━━━━━\u001b[0m\u001b[37m\u001b[0m \u001b[1m0s\u001b[0m 5ms/step - loss: 0.6464 - mae: 0.6384 - val_loss: 0.5955 - val_mae: 0.6098\n",
      "Epoch 6/50\n",
      "\u001b[1m35/35\u001b[0m \u001b[32m━━━━━━━━━━━━━━━━━━━━\u001b[0m\u001b[37m\u001b[0m \u001b[1m0s\u001b[0m 5ms/step - loss: 0.5477 - mae: 0.5896 - val_loss: 0.5288 - val_mae: 0.5756\n",
      "Epoch 7/50\n",
      "\u001b[1m35/35\u001b[0m \u001b[32m━━━━━━━━━━━━━━━━━━━━\u001b[0m\u001b[37m\u001b[0m \u001b[1m0s\u001b[0m 4ms/step - loss: 0.5108 - mae: 0.5653 - val_loss: 0.4710 - val_mae: 0.5415\n",
      "Epoch 8/50\n",
      "\u001b[1m35/35\u001b[0m \u001b[32m━━━━━━━━━━━━━━━━━━━━\u001b[0m\u001b[37m\u001b[0m \u001b[1m0s\u001b[0m 5ms/step - loss: 0.4298 - mae: 0.5207 - val_loss: 0.4241 - val_mae: 0.5129\n",
      "Epoch 9/50\n",
      "\u001b[1m35/35\u001b[0m \u001b[32m━━━━━━━━━━━━━━━━━━━━\u001b[0m\u001b[37m\u001b[0m \u001b[1m0s\u001b[0m 5ms/step - loss: 0.3965 - mae: 0.5013 - val_loss: 0.3819 - val_mae: 0.4873\n",
      "Epoch 10/50\n",
      "\u001b[1m35/35\u001b[0m \u001b[32m━━━━━━━━━━━━━━━━━━━━\u001b[0m\u001b[37m\u001b[0m \u001b[1m0s\u001b[0m 5ms/step - loss: 0.3557 - mae: 0.4734 - val_loss: 0.3415 - val_mae: 0.4615\n",
      "Epoch 11/50\n",
      "\u001b[1m35/35\u001b[0m \u001b[32m━━━━━━━━━━━━━━━━━━━━\u001b[0m\u001b[37m\u001b[0m \u001b[1m0s\u001b[0m 5ms/step - loss: 0.3233 - mae: 0.4531 - val_loss: 0.3081 - val_mae: 0.4379\n",
      "Epoch 12/50\n",
      "\u001b[1m35/35\u001b[0m \u001b[32m━━━━━━━━━━━━━━━━━━━━\u001b[0m\u001b[37m\u001b[0m \u001b[1m0s\u001b[0m 6ms/step - loss: 0.2914 - mae: 0.4269 - val_loss: 0.2709 - val_mae: 0.4120\n",
      "Epoch 13/50\n",
      "\u001b[1m35/35\u001b[0m \u001b[32m━━━━━━━━━━━━━━━━━━━━\u001b[0m\u001b[37m\u001b[0m \u001b[1m0s\u001b[0m 5ms/step - loss: 0.2562 - mae: 0.4037 - val_loss: 0.2408 - val_mae: 0.3890\n",
      "Epoch 14/50\n",
      "\u001b[1m35/35\u001b[0m \u001b[32m━━━━━━━━━━━━━━━━━━━━\u001b[0m\u001b[37m\u001b[0m \u001b[1m0s\u001b[0m 5ms/step - loss: 0.2272 - mae: 0.3809 - val_loss: 0.2091 - val_mae: 0.3630\n",
      "Epoch 15/50\n",
      "\u001b[1m35/35\u001b[0m \u001b[32m━━━━━━━━━━━━━━━━━━━━\u001b[0m\u001b[37m\u001b[0m \u001b[1m0s\u001b[0m 6ms/step - loss: 0.2040 - mae: 0.3605 - val_loss: 0.1801 - val_mae: 0.3362\n",
      "Epoch 16/50\n",
      "\u001b[1m35/35\u001b[0m \u001b[32m━━━━━━━━━━━━━━━━━━━━\u001b[0m\u001b[37m\u001b[0m \u001b[1m0s\u001b[0m 5ms/step - loss: 0.1695 - mae: 0.3295 - val_loss: 0.1514 - val_mae: 0.3094\n",
      "Epoch 17/50\n",
      "\u001b[1m35/35\u001b[0m \u001b[32m━━━━━━━━━━━━━━━━━━━━\u001b[0m\u001b[37m\u001b[0m \u001b[1m0s\u001b[0m 5ms/step - loss: 0.1415 - mae: 0.3008 - val_loss: 0.1286 - val_mae: 0.2837\n",
      "Epoch 18/50\n",
      "\u001b[1m35/35\u001b[0m \u001b[32m━━━━━━━━━━━━━━━━━━━━\u001b[0m\u001b[37m\u001b[0m \u001b[1m0s\u001b[0m 5ms/step - loss: 0.1181 - mae: 0.2738 - val_loss: 0.1047 - val_mae: 0.2563\n",
      "Epoch 19/50\n",
      "\u001b[1m35/35\u001b[0m \u001b[32m━━━━━━━━━━━━━━━━━━━━\u001b[0m\u001b[37m\u001b[0m \u001b[1m0s\u001b[0m 5ms/step - loss: 0.0985 - mae: 0.2508 - val_loss: 0.0847 - val_mae: 0.2314\n",
      "Epoch 20/50\n",
      "\u001b[1m35/35\u001b[0m \u001b[32m━━━━━━━━━━━━━━━━━━━━\u001b[0m\u001b[37m\u001b[0m \u001b[1m0s\u001b[0m 5ms/step - loss: 0.0772 - mae: 0.2214 - val_loss: 0.0682 - val_mae: 0.2074\n",
      "Epoch 21/50\n",
      "\u001b[1m35/35\u001b[0m \u001b[32m━━━━━━━━━━━━━━━━━━━━\u001b[0m\u001b[37m\u001b[0m \u001b[1m0s\u001b[0m 5ms/step - loss: 0.0593 - mae: 0.1935 - val_loss: 0.0533 - val_mae: 0.1834\n",
      "Epoch 22/50\n",
      "\u001b[1m35/35\u001b[0m \u001b[32m━━━━━━━━━━━━━━━━━━━━\u001b[0m\u001b[37m\u001b[0m \u001b[1m0s\u001b[0m 5ms/step - loss: 0.0476 - mae: 0.1728 - val_loss: 0.0415 - val_mae: 0.1623\n",
      "Epoch 23/50\n",
      "\u001b[1m35/35\u001b[0m \u001b[32m━━━━━━━━━━━━━━━━━━━━\u001b[0m\u001b[37m\u001b[0m \u001b[1m0s\u001b[0m 5ms/step - loss: 0.0377 - mae: 0.1531 - val_loss: 0.0329 - val_mae: 0.1433\n",
      "Epoch 24/50\n",
      "\u001b[1m35/35\u001b[0m \u001b[32m━━━━━━━━━━━━━━━━━━━━\u001b[0m\u001b[37m\u001b[0m \u001b[1m0s\u001b[0m 5ms/step - loss: 0.0292 - mae: 0.1354 - val_loss: 0.0257 - val_mae: 0.1257\n",
      "Epoch 25/50\n",
      "\u001b[1m35/35\u001b[0m \u001b[32m━━━━━━━━━━━━━━━━━━━━\u001b[0m\u001b[37m\u001b[0m \u001b[1m0s\u001b[0m 5ms/step - loss: 0.0231 - mae: 0.1207 - val_loss: 0.0202 - val_mae: 0.1107\n",
      "Epoch 26/50\n",
      "\u001b[1m35/35\u001b[0m \u001b[32m━━━━━━━━━━━━━━━━━━━━\u001b[0m\u001b[37m\u001b[0m \u001b[1m0s\u001b[0m 5ms/step - loss: 0.0177 - mae: 0.1046 - val_loss: 0.0166 - val_mae: 0.1006\n",
      "Epoch 27/50\n",
      "\u001b[1m35/35\u001b[0m \u001b[32m━━━━━━━━━━━━━━━━━━━━\u001b[0m\u001b[37m\u001b[0m \u001b[1m0s\u001b[0m 6ms/step - loss: 0.0149 - mae: 0.0951 - val_loss: 0.0139 - val_mae: 0.0918\n",
      "Epoch 28/50\n",
      "\u001b[1m35/35\u001b[0m \u001b[32m━━━━━━━━━━━━━━━━━━━━\u001b[0m\u001b[37m\u001b[0m \u001b[1m0s\u001b[0m 6ms/step - loss: 0.0115 - mae: 0.0846 - val_loss: 0.0122 - val_mae: 0.0851\n",
      "Epoch 29/50\n",
      "\u001b[1m35/35\u001b[0m \u001b[32m━━━━━━━━━━━━━━━━━━━━\u001b[0m\u001b[37m\u001b[0m \u001b[1m0s\u001b[0m 5ms/step - loss: 0.0107 - mae: 0.0812 - val_loss: 0.0106 - val_mae: 0.0794\n",
      "Epoch 30/50\n",
      "\u001b[1m35/35\u001b[0m \u001b[32m━━━━━━━━━━━━━━━━━━━━\u001b[0m\u001b[37m\u001b[0m \u001b[1m0s\u001b[0m 4ms/step - loss: 0.0092 - mae: 0.0759 - val_loss: 0.0097 - val_mae: 0.0757\n",
      "Epoch 31/50\n",
      "\u001b[1m35/35\u001b[0m \u001b[32m━━━━━━━━━━━━━━━━━━━━\u001b[0m\u001b[37m\u001b[0m \u001b[1m0s\u001b[0m 4ms/step - loss: 0.0084 - mae: 0.0725 - val_loss: 0.0088 - val_mae: 0.0720\n",
      "Epoch 32/50\n",
      "\u001b[1m35/35\u001b[0m \u001b[32m━━━━━━━━━━━━━━━━━━━━\u001b[0m\u001b[37m\u001b[0m \u001b[1m0s\u001b[0m 5ms/step - loss: 0.0077 - mae: 0.0684 - val_loss: 0.0084 - val_mae: 0.0704\n",
      "Epoch 33/50\n",
      "\u001b[1m35/35\u001b[0m \u001b[32m━━━━━━━━━━━━━━━━━━━━\u001b[0m\u001b[37m\u001b[0m \u001b[1m0s\u001b[0m 5ms/step - loss: 0.0069 - mae: 0.0656 - val_loss: 0.0077 - val_mae: 0.0677\n",
      "Epoch 34/50\n",
      "\u001b[1m35/35\u001b[0m \u001b[32m━━━━━━━━━━━━━━━━━━━━\u001b[0m\u001b[37m\u001b[0m \u001b[1m0s\u001b[0m 4ms/step - loss: 0.0065 - mae: 0.0636 - val_loss: 0.0072 - val_mae: 0.0662\n",
      "Epoch 35/50\n",
      "\u001b[1m35/35\u001b[0m \u001b[32m━━━━━━━━━━━━━━━━━━━━\u001b[0m\u001b[37m\u001b[0m \u001b[1m0s\u001b[0m 4ms/step - loss: 0.0060 - mae: 0.0607 - val_loss: 0.0069 - val_mae: 0.0643\n",
      "Epoch 36/50\n",
      "\u001b[1m35/35\u001b[0m \u001b[32m━━━━━━━━━━━━━━━━━━━━\u001b[0m\u001b[37m\u001b[0m \u001b[1m0s\u001b[0m 5ms/step - loss: 0.0060 - mae: 0.0609 - val_loss: 0.0066 - val_mae: 0.0627\n",
      "Epoch 37/50\n",
      "\u001b[1m35/35\u001b[0m \u001b[32m━━━━━━━━━━━━━━━━━━━━\u001b[0m\u001b[37m\u001b[0m \u001b[1m0s\u001b[0m 5ms/step - loss: 0.0058 - mae: 0.0593 - val_loss: 0.0063 - val_mae: 0.0611\n",
      "Epoch 38/50\n",
      "\u001b[1m35/35\u001b[0m \u001b[32m━━━━━━━━━━━━━━━━━━━━\u001b[0m\u001b[37m\u001b[0m \u001b[1m0s\u001b[0m 5ms/step - loss: 0.0056 - mae: 0.0587 - val_loss: 0.0060 - val_mae: 0.0596\n",
      "Epoch 39/50\n",
      "\u001b[1m35/35\u001b[0m \u001b[32m━━━━━━━━━━━━━━━━━━━━\u001b[0m\u001b[37m\u001b[0m \u001b[1m0s\u001b[0m 5ms/step - loss: 0.0051 - mae: 0.0562 - val_loss: 0.0058 - val_mae: 0.0588\n",
      "Epoch 40/50\n",
      "\u001b[1m35/35\u001b[0m \u001b[32m━━━━━━━━━━━━━━━━━━━━\u001b[0m\u001b[37m\u001b[0m \u001b[1m0s\u001b[0m 5ms/step - loss: 0.0049 - mae: 0.0552 - val_loss: 0.0056 - val_mae: 0.0581\n",
      "Epoch 41/50\n",
      "\u001b[1m35/35\u001b[0m \u001b[32m━━━━━━━━━━━━━━━━━━━━\u001b[0m\u001b[37m\u001b[0m \u001b[1m0s\u001b[0m 4ms/step - loss: 0.0049 - mae: 0.0548 - val_loss: 0.0054 - val_mae: 0.0568\n",
      "Epoch 42/50\n",
      "\u001b[1m35/35\u001b[0m \u001b[32m━━━━━━━━━━━━━━━━━━━━\u001b[0m\u001b[37m\u001b[0m \u001b[1m0s\u001b[0m 4ms/step - loss: 0.0046 - mae: 0.0529 - val_loss: 0.0052 - val_mae: 0.0556\n",
      "Epoch 43/50\n",
      "\u001b[1m35/35\u001b[0m \u001b[32m━━━━━━━━━━━━━━━━━━━━\u001b[0m\u001b[37m\u001b[0m \u001b[1m0s\u001b[0m 4ms/step - loss: 0.0045 - mae: 0.0525 - val_loss: 0.0050 - val_mae: 0.0547\n",
      "Epoch 44/50\n",
      "\u001b[1m35/35\u001b[0m \u001b[32m━━━━━━━━━━━━━━━━━━━━\u001b[0m\u001b[37m\u001b[0m \u001b[1m0s\u001b[0m 3ms/step - loss: 0.0043 - mae: 0.0516 - val_loss: 0.0049 - val_mae: 0.0543\n",
      "Epoch 45/50\n",
      "\u001b[1m35/35\u001b[0m \u001b[32m━━━━━━━━━━━━━━━━━━━━\u001b[0m\u001b[37m\u001b[0m \u001b[1m0s\u001b[0m 4ms/step - loss: 0.0043 - mae: 0.0519 - val_loss: 0.0047 - val_mae: 0.0530\n",
      "Epoch 46/50\n",
      "\u001b[1m35/35\u001b[0m \u001b[32m━━━━━━━━━━━━━━━━━━━━\u001b[0m\u001b[37m\u001b[0m \u001b[1m0s\u001b[0m 4ms/step - loss: 0.0038 - mae: 0.0486 - val_loss: 0.0047 - val_mae: 0.0533\n",
      "Epoch 47/50\n",
      "\u001b[1m35/35\u001b[0m \u001b[32m━━━━━━━━━━━━━━━━━━━━\u001b[0m\u001b[37m\u001b[0m \u001b[1m0s\u001b[0m 3ms/step - loss: 0.0038 - mae: 0.0484 - val_loss: 0.0045 - val_mae: 0.0521\n",
      "Epoch 48/50\n",
      "\u001b[1m35/35\u001b[0m \u001b[32m━━━━━━━━━━━━━━━━━━━━\u001b[0m\u001b[37m\u001b[0m \u001b[1m0s\u001b[0m 3ms/step - loss: 0.0038 - mae: 0.0483 - val_loss: 0.0043 - val_mae: 0.0511\n",
      "Epoch 49/50\n",
      "\u001b[1m35/35\u001b[0m \u001b[32m━━━━━━━━━━━━━━━━━━━━\u001b[0m\u001b[37m\u001b[0m \u001b[1m0s\u001b[0m 3ms/step - loss: 0.0035 - mae: 0.0468 - val_loss: 0.0042 - val_mae: 0.0501\n",
      "Epoch 50/50\n",
      "\u001b[1m35/35\u001b[0m \u001b[32m━━━━━━━━━━━━━━━━━━━━\u001b[0m\u001b[37m\u001b[0m \u001b[1m0s\u001b[0m 3ms/step - loss: 0.0036 - mae: 0.0466 - val_loss: 0.0041 - val_mae: 0.0496\n"
     ]
    }
   ],
   "source": [
    "history = model.fit(x_train, y_train, epochs = 50, batch_size = 128, validation_split = 0.2, verbose = 1)\n"
   ]
  },
  {
   "cell_type": "markdown",
   "id": "f4a7fa7a-187f-4dfa-bbf0-0c22ebc05a13",
   "metadata": {},
   "source": [
    "Evaluate"
   ]
  },
  {
   "cell_type": "code",
   "execution_count": 60,
   "id": "7823812a-3146-4997-b322-f88512eaf65d",
   "metadata": {},
   "outputs": [
    {
     "name": "stdout",
     "output_type": "stream",
     "text": [
      "Test Mean Absolute Error: 0.05\n"
     ]
    }
   ],
   "source": [
    "loss,mae = model.evaluate(x_test, y_test, verbose = 0)\n",
    "print(f'Test Mean Absolute Error: {mae:.2f}')"
   ]
  },
  {
   "cell_type": "code",
   "execution_count": 61,
   "id": "53f37848-4a07-4c00-a41e-30bb8bfffe62",
   "metadata": {},
   "outputs": [],
   "source": [
    "\n",
    "model.compile(loss = 'Mean_squared_error', optimizer = Adam(learning_rate = 0.0001), metrics = ['mae'])"
   ]
  },
  {
   "cell_type": "code",
   "execution_count": 62,
   "id": "0c1e8a4f-a1b9-480c-8ac8-cf6f715768e5",
   "metadata": {},
   "outputs": [],
   "source": [
    "from tensorflow.keras.losses import MeanSquaredError\n",
    "model.compile(loss=MeanSquaredError(), optimizer='adam', metrics=['mae'])"
   ]
  },
  {
   "cell_type": "code",
   "execution_count": 63,
   "id": "dfee3c3e-84fb-40dc-a803-7667c1bc60f9",
   "metadata": {},
   "outputs": [
    {
     "name": "stdout",
     "output_type": "stream",
     "text": [
      "Mean MAE across 5 folds: 0.00\n"
     ]
    }
   ],
   "source": [
    "from sklearn.model_selection import KFold\n",
    "kf = KFold(n_splits=5, shuffle=True, random_state=42)\n",
    "mae_scores = []\n",
    "for train_idx, test_idx in kf.split(features_scaled):\n",
    "    X_train, X_test = features_scaled[train_idx], features_scaled[test_idx]\n",
    "    y_train, y_test = target.iloc[train_idx], target.iloc[test_idx]\n",
    "    model.fit(X_train, y_train, epochs=50, batch_size=128, verbose=0)\n",
    "    loss, mae = model.evaluate(X_test, y_test, verbose=0)\n",
    "    mae_scores.append(mae)\n",
    "print(f\"Mean MAE across 5 folds: {np.mean(mae_scores):.2f}\")"
   ]
  },
  {
   "cell_type": "code",
   "execution_count": 64,
   "id": "775eb85d-352e-4413-975a-6c2131c022e4",
   "metadata": {},
   "outputs": [
    {
     "data": {
      "image/png": "[encoded data removed]",
      "text/plain": [
       "<Figure size 640x480 with 1 Axes>"
      ]
     },
     "metadata": {},
     "output_type": "display_data"
    }
   ],
   "source": [
    "import matplotlib.pyplot as plt\n",
    "plt.plot(history.history['mae'], label='Training MAE')\n",
    "plt.plot(history.history['val_mae'], label='Validation MAE')\n",
    "plt.xlabel('Epoch')\n",
    "plt.ylabel('MAE')\n",
    "plt.legend()\n",
    "plt.show()"
   ]
  },
  {
   "cell_type": "code",
   "execution_count": 66,
   "id": "2beb39c4-2a84-46bb-b788-5f7ddf10b4f6",
   "metadata": {},
   "outputs": [
    {
     "name": "stdout",
     "output_type": "stream",
     "text": [
      "\u001b[1m44/44\u001b[0m \u001b[32m━━━━━━━━━━━━━━━━━━━━\u001b[0m\u001b[37m\u001b[0m \u001b[1m0s\u001b[0m 2ms/step\n"
     ]
    },
    {
     "data": {
      "image/png": "[encoded data removed]",
      "text/plain": [
       "<Figure size 640x480 with 1 Axes>"
      ]
     },
     "metadata": {},
     "output_type": "display_data"
    }
   ],
   "source": [
    "y_pred = model.predict(X_test)\n",
    "plt.scatter(y_test, y_pred, alpha=0.5)\n",
    "plt.xlabel('Actual Magnitude')\n",
    "plt.ylabel('Predicted Magnitude')\n",
    "plt.plot([min(y_test), max(y_test)], [min(y_test), max(y_test)], 'r--')\n",
    "plt.show()"
   ]
  },
  {
   "cell_type": "code",
   "execution_count": 65,
   "id": "f99969ec-d42f-4446-a7c6-00f0c2942213",
   "metadata": {},
   "outputs": [
    {
     "name": "stdout",
     "output_type": "stream",
     "text": [
      "mag: 1.997\n",
      "longitude: 0.000\n",
      "year: 0.000\n",
      "latitude: 0.000\n",
      "hour: 0.000\n",
      "Day: 0.000\n",
      "month: 0.000\n",
      "depth: 0.000\n"
     ]
    }
   ],
   "source": [
    "from sklearn.inspection import permutation_importance\n",
    "# Train a simpler model (e.g., Random Forest) for comparison\n",
    "from sklearn.ensemble import RandomForestRegressor\n",
    "rf = RandomForestRegressor().fit(features_scaled, target)\n",
    "result = permutation_importance(rf, features_scaled, target, n_repeats=10, random_state=42)\n",
    "for i in result.importances_mean.argsort()[::-1]:\n",
    "    print(f\"{features.columns[i]}: {result.importances_mean[i]:.3f}\")"
   ]
  },
  {
   "cell_type": "code",
   "execution_count": 67,
   "id": "feecde63-de8a-41b5-b550-9574f0c4ef8f",
   "metadata": {},
   "outputs": [
    {
     "name": "stderr",
     "output_type": "stream",
     "text": [
      "WARNING:absl:You are saving your model as an HDF5 file via `model.save()` or `keras.saving.save_model(model)`. This file format is considered legacy. We recommend using instead the native Keras format, e.g. `model.save('my_model.keras')` or `keras.saving.save_model(model, 'my_model.keras')`. \n"
     ]
    },
    {
     "data": {
      "text/plain": [
       "['scaler.pkl']"
      ]
     },
     "execution_count": 67,
     "metadata": {},
     "output_type": "execute_result"
    }
   ],
   "source": [
    "model.save('earthquake_magnitude_model.h5')\n",
    "import joblib\n",
    "joblib.dump(scaler, 'scaler.pkl')"
   ]
  }
 ],
 "metadata": {
  "kernelspec": {
   "display_name": "Python 3 (ipykernel)",
   "language": "python",
   "name": "python3"
  },
  "language_info": {
   "codemirror_mode": {
    "name": "ipython",
    "version": 3
   },
   "file_extension": ".py",
   "mimetype": "text/x-python",
   "name": "python",
   "nbconvert_exporter": "python",
   "pygments_lexer": "ipython3",
   "version": "3.12.7"
  }
 },
 "nbformat": 4,
 "nbformat_minor": 5
}
